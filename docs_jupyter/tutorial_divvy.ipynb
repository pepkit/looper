{
 "cells": [
  {
   "cell_type": "markdown",
   "metadata": {},
   "source": [
    "# <img src=\"../img/divvy_logo.svg\" class=\"img-header\"> python tutorial\n",
    "\n",
    "## Compute packages\n",
    "\n",
    "When you start `divvy`, you may provide a configuration file that specifies one or more *compute packages*. A compute package is just a set of a variables that contains information needed to run a job, such as a job submission template, the command that you use to submit a job (*e.g.* `sbatch` or `qsub`), and any other variables needed to fill the template (*e.g.* `partition` or `account`). You can find out [how to write your own divvy config file](../configuration), but for this tutorial, we'll just use the default.\n",
    "\n",
    "Start by importing `divvy`, and then create a new `ComputingConfiguration` object. If you provide no arguments, you'll just get a few default packages:"
   ]
  },
  {
   "cell_type": "code",
   "execution_count": 1,
   "metadata": {
    "scrolled": true
   },
   "outputs": [],
   "source": [
    "import divvy\n",
    "dcc = divvy.ComputingConfiguration()\n"
   ]
  },
  {
   "cell_type": "markdown",
   "metadata": {},
   "source": [
    "This loads up the default compute package, and we see that there are a few other packages available. We can explore the compute settings in the loaded (`default`) package like this: "
   ]
  },
  {
   "cell_type": "code",
   "execution_count": 2,
   "metadata": {},
   "outputs": [
    {
     "data": {
      "text/plain": [
       "submission_template: /home/nsheff/.local/lib/python3.5/site-packages/divvy/default_config/submit_templates/localhost_template.sub\n",
       "submission_command: sh"
      ]
     },
     "execution_count": 2,
     "metadata": {},
     "output_type": "execute_result"
    }
   ],
   "source": [
    "dcc.compute"
   ]
  },
  {
   "cell_type": "markdown",
   "metadata": {},
   "source": [
    "Here you can see that a *compute package* is really a simple thing. In this case, it's just 2 key-value pairs. The `submission_template` key is a path to a template file, with these contents: \n",
    "\n"
   ]
  },
  {
   "cell_type": "code",
   "execution_count": 3,
   "metadata": {},
   "outputs": [
    {
     "name": "stdout",
     "output_type": "stream",
     "text": [
      "#!/bin/bash\n",
      "\n",
      "echo 'Compute node:' `hostname`\n",
      "echo 'Start time:' `date +'%Y-%m-%d %T'`\n",
      "\n",
      "{CODE} | tee {LOGFILE}\n",
      "\n"
     ]
    }
   ],
   "source": [
    "with open(dcc.compute.submission_template) as f:\n",
    "    print(f.read())"
   ]
  },
  {
   "cell_type": "markdown",
   "metadata": {},
   "source": [
    "We can populate this simple template by passing values for the `{VARIABLE}` text in the template:"
   ]
  },
  {
   "cell_type": "code",
   "execution_count": 4,
   "metadata": {},
   "outputs": [
    {
     "name": "stderr",
     "output_type": "stream",
     "text": [
      "Writing script to /home/nsheff/code/divvy/docs_jupyter/test_local.sub\n"
     ]
    },
    {
     "data": {
      "text/plain": [
       "'test_local.sub'"
      ]
     },
     "execution_count": 4,
     "metadata": {},
     "output_type": "execute_result"
    }
   ],
   "source": [
    "dcc.write_script(\"test_local.sub\", {\"code\": \"run-this-command\", \"logfile\": \"logfile.txt\"})"
   ]
  },
  {
   "cell_type": "markdown",
   "metadata": {},
   "source": [
    "Now let's look at the contents of our populated template:"
   ]
  },
  {
   "cell_type": "code",
   "execution_count": 5,
   "metadata": {},
   "outputs": [
    {
     "name": "stdout",
     "output_type": "stream",
     "text": [
      "#!/bin/bash\n",
      "\n",
      "echo 'Compute node:' `hostname`\n",
      "echo 'Start time:' `date +'%Y-%m-%d %T'`\n",
      "\n",
      "run-this-command | tee logfile.txt\n",
      "\n"
     ]
    }
   ],
   "source": [
    "with open(\"test_local.sub\") as f:\n",
    "    print(f.read())"
   ]
  },
  {
   "cell_type": "markdown",
   "metadata": {},
   "source": [
    "This function opens the template specified by the `submission_template` variable in the compute package, and then populates any template variables with values from the compute package. The original `{CODE}` and `{LOGFILE}` has been replaced by the variables we passed to `write_script()`.\n",
    "\n",
    "The other variable in the compute package is `submission_command`, which contains the shell instruction that would be used to submit this populated template; in this case, it's simply `sh` to run this script in the console. We can activate a different *compute_package* like this: "
   ]
  },
  {
   "cell_type": "code",
   "execution_count": 6,
   "metadata": {},
   "outputs": [
    {
     "name": "stderr",
     "output_type": "stream",
     "text": [
      "Activating compute package 'slurm'\n"
     ]
    },
    {
     "data": {
      "text/plain": [
       "True"
      ]
     },
     "execution_count": 6,
     "metadata": {},
     "output_type": "execute_result"
    }
   ],
   "source": [
    "dcc.activate_package(\"slurm\")"
   ]
  },
  {
   "cell_type": "markdown",
   "metadata": {},
   "source": [
    "It returns 'True' to indicate that the activation has been successful. This will change our settings. Let's inspect the new package:"
   ]
  },
  {
   "cell_type": "code",
   "execution_count": 7,
   "metadata": {
    "scrolled": true
   },
   "outputs": [
    {
     "data": {
      "text/plain": [
       "submission_template: /home/nsheff/.local/lib/python3.5/site-packages/divvy/default_config/submit_templates/slurm_template.sub\n",
       "submission_command: sbatch"
      ]
     },
     "execution_count": 7,
     "metadata": {},
     "output_type": "execute_result"
    }
   ],
   "source": [
    "dcc.compute"
   ]
  },
  {
   "cell_type": "markdown",
   "metadata": {},
   "source": [
    "Now that we've activated the package of interest, let's take a peek at the now-active `submission_template`:"
   ]
  },
  {
   "cell_type": "code",
   "execution_count": 8,
   "metadata": {},
   "outputs": [
    {
     "name": "stdout",
     "output_type": "stream",
     "text": [
      "#!/bin/bash\n",
      "#SBATCH --job-name='{JOBNAME}'\n",
      "#SBATCH --output='{LOGFILE}'\n",
      "#SBATCH --mem='{MEM}'\n",
      "#SBATCH --cpus-per-task='{CORES}'\n",
      "#SBATCH --time='{TIME}'\n",
      "#SBATCH --partition='{PARTITION}'\n",
      "#SBATCH -m block\n",
      "#SBATCH --ntasks=1\n",
      "\n",
      "echo 'Compute node:' `hostname`\n",
      "echo 'Start time:' `date +'%Y-%m-%d %T'`\n",
      "\n",
      "{CODE}\n",
      "\n"
     ]
    }
   ],
   "source": [
    "with open(dcc.compute.submission_template) as f:\n",
    "    print(f.read())"
   ]
  },
  {
   "cell_type": "markdown",
   "metadata": {},
   "source": [
    "In this template there are a lot more variables to populate. If we don't populate them all, they will just be left in the template. Let's pass a value for the `code` variable and see how this changes the submission script output:"
   ]
  },
  {
   "cell_type": "code",
   "execution_count": 9,
   "metadata": {},
   "outputs": [
    {
     "name": "stderr",
     "output_type": "stream",
     "text": [
      "Writing script to /home/nsheff/code/divvy/docs_jupyter/test_script.sub\n"
     ]
    }
   ],
   "source": [
    "s = dcc.write_script(\"test_script.sub\", {\"code\":\"yellow\"})"
   ]
  },
  {
   "cell_type": "markdown",
   "metadata": {},
   "source": [
    "Here's the output. Notice that the `{CODE}` variable has been replaced with the word `yellow`:"
   ]
  },
  {
   "cell_type": "code",
   "execution_count": 10,
   "metadata": {},
   "outputs": [
    {
     "name": "stdout",
     "output_type": "stream",
     "text": [
      "#!/bin/bash\n",
      "#SBATCH --job-name='{JOBNAME}'\n",
      "#SBATCH --output='{LOGFILE}'\n",
      "#SBATCH --mem='{MEM}'\n",
      "#SBATCH --cpus-per-task='{CORES}'\n",
      "#SBATCH --time='{TIME}'\n",
      "#SBATCH --partition='{PARTITION}'\n",
      "#SBATCH -m block\n",
      "#SBATCH --ntasks=1\n",
      "\n",
      "echo 'Compute node:' `hostname`\n",
      "echo 'Start time:' `date +'%Y-%m-%d %T'`\n",
      "\n",
      "yellow\n",
      "\n"
     ]
    }
   ],
   "source": [
    "with open(\"test_script.sub\") as f:\n",
    "    print(f.read())"
   ]
  },
  {
   "cell_type": "markdown",
   "metadata": {},
   "source": [
    "## Using a priority list of variables\n",
    "\n",
    "Now, you can also pass more than one `Dict` object, in priority order, by just passing a list. Here, we'll pass 2 dicts, and any values in the 1st will override values in the 2nd:"
   ]
  },
  {
   "cell_type": "code",
   "execution_count": 11,
   "metadata": {},
   "outputs": [
    {
     "name": "stderr",
     "output_type": "stream",
     "text": [
      "Writing script to /home/nsheff/code/divvy/docs_jupyter/test_script.sub\n"
     ]
    }
   ],
   "source": [
    "s = dcc.write_script(\"test_script.sub\", [{\"code\":\"red\"}, {\"code\": \"yellow\", \"time\": \"now\"}])"
   ]
  },
  {
   "cell_type": "code",
   "execution_count": 12,
   "metadata": {},
   "outputs": [
    {
     "name": "stdout",
     "output_type": "stream",
     "text": [
      "#!/bin/bash\n",
      "#SBATCH --job-name='{JOBNAME}'\n",
      "#SBATCH --output='{LOGFILE}'\n",
      "#SBATCH --mem='{MEM}'\n",
      "#SBATCH --cpus-per-task='{CORES}'\n",
      "#SBATCH --time='now'\n",
      "#SBATCH --partition='{PARTITION}'\n",
      "#SBATCH -m block\n",
      "#SBATCH --ntasks=1\n",
      "\n",
      "echo 'Compute node:' `hostname`\n",
      "echo 'Start time:' `date +'%Y-%m-%d %T'`\n",
      "\n",
      "red\n",
      "\n"
     ]
    }
   ],
   "source": [
    "with open(\"test_script.sub\") as f:\n",
    "    print(f.read())"
   ]
  },
  {
   "cell_type": "markdown",
   "metadata": {},
   "source": [
    "In this case the value `red` took priority for the `code` variable, because it came first; but `time` was not overwritten in the first entry, so it is maintained. This allows for a cascading cumulative priority variable replacement."
   ]
  }
 ],
 "metadata": {
  "kernelspec": {
   "display_name": "Python 3",
   "language": "python",
   "name": "python3"
  },
  "language_info": {
   "codemirror_mode": {
    "name": "ipython",
    "version": 3
   },
   "file_extension": ".py",
   "mimetype": "text/x-python",
   "name": "python",
   "nbconvert_exporter": "python",
   "pygments_lexer": "ipython3",
   "version": "3.7.5"
  }
 },
 "nbformat": 4,
 "nbformat_minor": 2
}
