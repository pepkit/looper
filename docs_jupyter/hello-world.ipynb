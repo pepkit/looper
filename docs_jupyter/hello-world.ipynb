{
 "cells": [
  {
   "cell_type": "markdown",
   "metadata": {},
   "source": [
    "# Hello World! example for looper\n",
    "\n",
    "This tutorial demonstrates how to install `looper` and use it to run a pipeline on a PEP project. \n",
    "\n",
    "## 1. Install the latest version of looper:\n",
    "\n",
    "```console\n",
    "pip install --user --upgrade looper\n",
    "```\n",
    "\n",
    "## 2. Download and unzip the hello_looper repository\n",
    "\n",
    "The [hello looper repository](http://github.com/pepkit/hello_looper) contains a basic functional example project (in `/project`) and a looper-compatible pipeline (in `/pipeline`) that can run on that project. Let's download and unzip it:\n"
   ]
  },
  {
   "cell_type": "code",
   "execution_count": 13,
   "metadata": {},
   "outputs": [
    {
     "name": "stdout",
     "output_type": "stream",
     "text": [
      "--2023-11-08 17:27:01--  https://github.com/pepkit/hello_looper/archive/refs/heads/master.zip\n",
      "Resolving github.com (github.com)... 140.82.114.3\n",
      "Connecting to github.com (github.com)|140.82.114.3|:443... connected.\n",
      "HTTP request sent, awaiting response... 302 Found\n",
      "Location: https://codeload.github.com/pepkit/hello_looper/zip/refs/heads/master [following]\n",
      "--2023-11-08 17:27:01--  https://codeload.github.com/pepkit/hello_looper/zip/refs/heads/master\n",
      "Resolving codeload.github.com (codeload.github.com)... 140.82.113.10\n",
      "Connecting to codeload.github.com (codeload.github.com)|140.82.113.10|:443... connected.\n",
      "HTTP request sent, awaiting response... 200 OK\n",
      "Length: unspecified [application/zip]\n",
      "Saving to: ‘master.zip’\n",
      "\n",
      "master.zip              [ <=>                ]  13.37K  --.-KB/s    in 0.03s   \n",
      "\n",
      "2023-11-08 17:27:01 (472 KB/s) - ‘master.zip’ saved [13693]\n",
      "\n"
     ]
    }
   ],
   "source": [
    "!wget https://github.com/pepkit/hello_looper/archive/refs/heads/master.zip"
   ]
  },
  {
   "cell_type": "code",
   "execution_count": 14,
   "metadata": {},
   "outputs": [
    {
     "name": "stdout",
     "output_type": "stream",
     "text": [
      "Archive:  master.zip\r\n",
      "73ef08e38d3e17fd3d4f940282c80e3ee4dbb91f\r\n",
      "   creating: hello_looper-master/\r\n",
      "  inflating: hello_looper-master/.gitignore  \r\n",
      "  inflating: hello_looper-master/.looper.yaml  \r\n",
      "  inflating: hello_looper-master/.looper_pephub.yaml  \r\n",
      "  inflating: hello_looper-master/.looper_pipestat.yaml  \r\n",
      "  inflating: hello_looper-master/.looper_pipestat_shell.yaml  \r\n",
      "  inflating: hello_looper-master/README.md  \r\n",
      "   creating: hello_looper-master/data/\r\n",
      "  inflating: hello_looper-master/data/frog1_data.txt  \r\n",
      "  inflating: hello_looper-master/data/frog2_data.txt  \r\n",
      "  inflating: hello_looper-master/looper_pipelines.md  \r\n",
      "   creating: hello_looper-master/old_specification/\r\n",
      "  inflating: hello_looper-master/old_specification/README.md  \r\n",
      "   creating: hello_looper-master/old_specification/data/\r\n",
      "  inflating: hello_looper-master/old_specification/data/frog1_data.txt  \r\n",
      "  inflating: hello_looper-master/old_specification/data/frog2_data.txt  \r\n",
      "   creating: hello_looper-master/old_specification/pipeline/\r\n",
      "  inflating: hello_looper-master/old_specification/pipeline/count_lines.sh  \r\n",
      "  inflating: hello_looper-master/old_specification/pipeline/pipeline_interface.yaml  \r\n",
      "   creating: hello_looper-master/old_specification/project/\r\n",
      "  inflating: hello_looper-master/old_specification/project/project_config.yaml  \r\n",
      "  inflating: hello_looper-master/old_specification/project/sample_annotation.csv  \r\n",
      "   creating: hello_looper-master/pipeline/\r\n",
      "  inflating: hello_looper-master/pipeline/count_lines.sh  \r\n",
      "  inflating: hello_looper-master/pipeline/pipeline_interface.yaml  \r\n",
      "  inflating: hello_looper-master/pipeline/pipeline_interface_project.yaml  \r\n",
      "   creating: hello_looper-master/pipeline_pipestat/\r\n",
      "  inflating: hello_looper-master/pipeline_pipestat/count_lines.py  \r\n",
      "  inflating: hello_looper-master/pipeline_pipestat/count_lines_pipestat.sh  \r\n",
      "  inflating: hello_looper-master/pipeline_pipestat/pipeline_interface.yaml  \r\n",
      "  inflating: hello_looper-master/pipeline_pipestat/pipeline_interface_shell.yaml  \r\n",
      "  inflating: hello_looper-master/pipeline_pipestat/pipestat_output_schema.yaml  \r\n",
      "   creating: hello_looper-master/project/\r\n",
      "  inflating: hello_looper-master/project/project_config.yaml  \r\n",
      "  inflating: hello_looper-master/project/sample_annotation.csv  \r\n"
     ]
    }
   ],
   "source": [
    "!unzip master.zip"
   ]
  },
  {
   "cell_type": "markdown",
   "metadata": {},
   "source": [
    "## 3. Run it\n",
    "\n",
    "Run it by changing to the directory and then invoking `looper run` on the project configuration file."
   ]
  },
  {
   "cell_type": "code",
   "execution_count": 18,
   "metadata": {},
   "outputs": [
    {
     "name": "stdout",
     "output_type": "stream",
     "text": [
      "Looper version: 1.5.2-dev\r\n",
      "Command: run\r\n",
      "Using default divvy config. You may specify in env var: ['DIVCFG']\r\n",
      "Pipestat compatible: False\r\n",
      "\u001b[36m## [1 of 2] sample: frog_1; pipeline: count_lines\u001b[0m\r\n",
      "/home/drc/GITHUB/looper/master/looper/docs_jupyter/hello_looper-master/pipeline/count_lines.sh data/frog1_data.txt\r\n",
      "Writing script to /home/drc/GITHUB/looper/master/looper/docs_jupyter/hello_looper-master/results/submission/count_lines_frog_1.sub\r\n",
      "Job script (n=1; 0.00Gb): /home/drc/GITHUB/looper/master/looper/docs_jupyter/hello_looper-master/results/submission/count_lines_frog_1.sub\r\n",
      "Compute node: databio\r\n",
      "Start time: 2023-11-08 17:29:45\r\n",
      "wc: data/frog1_data.txt: No such file or directory\r\n",
      "Number of lines: \r\n",
      "\u001b[36m## [2 of 2] sample: frog_2; pipeline: count_lines\u001b[0m\r\n",
      "/home/drc/GITHUB/looper/master/looper/docs_jupyter/hello_looper-master/pipeline/count_lines.sh data/frog2_data.txt\r\n",
      "Writing script to /home/drc/GITHUB/looper/master/looper/docs_jupyter/hello_looper-master/results/submission/count_lines_frog_2.sub\r\n",
      "Job script (n=1; 0.00Gb): /home/drc/GITHUB/looper/master/looper/docs_jupyter/hello_looper-master/results/submission/count_lines_frog_2.sub\r\n",
      "Compute node: databio\r\n",
      "Start time: 2023-11-08 17:29:45\r\n",
      "wc: data/frog2_data.txt: No such file or directory\r\n",
      "Number of lines: \r\n",
      "\r\n",
      "Looper finished\r\n",
      "Samples valid for job generation: 2 of 2\r\n",
      "Commands submitted: 2 of 2\r\n",
      "Jobs submitted: 2\r\n",
      "{'Pipestat compatible': False, 'Commands submitted': '2 of 2', 'Jobs submitted': 2}\r\n",
      "\u001b[0m"
     ]
    }
   ],
   "source": [
    "!looper run --looper-config hello_looper-master/.looper.yaml"
   ]
  },
  {
   "cell_type": "markdown",
   "metadata": {},
   "source": [
    "Voila! You've run your very first pipeline across multiple samples using `looper`!"
   ]
  },
  {
   "cell_type": "markdown",
   "metadata": {},
   "source": [
    "# Exploring the results\n",
    "\n",
    "Now, let's inspect the `hello_looper` repository you downloaded. It has 3 components, each in a subfolder:"
   ]
  },
  {
   "cell_type": "code",
   "execution_count": 5,
   "metadata": {},
   "outputs": [
    {
     "name": "stdout",
     "output_type": "stream",
     "text": [
      "hello_looper-master/data/\r\n",
      "├── frog1_data.txt\r\n",
      "└── frog2_data.txt\r\n",
      "hello_looper-master/pipeline/\r\n",
      "├── count_lines.sh\r\n",
      "└── pipeline_interface.yaml\r\n",
      "hello_looper-master/project/\r\n",
      "├── project_config.yaml\r\n",
      "└── sample_annotation.csv\r\n",
      "\r\n",
      "0 directories, 6 files\r\n"
     ]
    }
   ],
   "source": [
    "!tree hello_looper-master/*/"
   ]
  },
  {
   "cell_type": "markdown",
   "metadata": {},
   "source": [
    "These are:\n",
    "\n",
    " * `/data` -- contains 2 data files for 2 samples. These input files were each passed to the pipeline.\n",
    " * `/pipeline` -- contains the script we want to run on each sample in our project. Our pipeline is a very simple shell script named `count_lines.sh`, which (duh!) counts the number of lines in an input file.\n",
    " * `/project` -- contains 2 files that describe metadata for the project (`project_config.yaml`) and the samples (`sample_annotation.csv`). This particular project describes just two samples listed in the annotation file. These files together make up a [PEP](http://pep.databio.org)-formatted project, and can therefore be read by any PEP-compatible tool, including `looper`.\n",
    "\n"
   ]
  },
  {
   "cell_type": "markdown",
   "metadata": {},
   "source": [
    "\n",
    "When we invoke `looper` from the command line we told it to `run project/project_config.yaml`. `looper` reads the [project/project_config.yaml](https://github.com/pepkit/hello_looper/blob/master/project/project_config.yaml) file, which points to a few things:\n",
    "\n",
    " * the [project/sample_annotation.csv](https://github.com/pepkit/hello_looper/blob/master/project/sample_annotation.csv) file, which specifies a few samples, their type, and path to data file\n",
    " * the `output_dir`, which is where looper results are saved. Results will be saved in `$HOME/hello_looper_results`.\n",
    " * the `pipeline_interface.yaml` file, ([pipeline/pipeline_interface.yaml](https://github.com/pepkit/hello_looper/blob/master/pipeline/pipeline_interface.yaml)), which tells looper how to connect to the pipeline ([pipeline/count_lines.sh](https://github.com/pepkit/hello_looper/blob/master/pipeline/)).\n",
    "\n",
    "The 3 folders (`data`, `project`, and `pipeline`) are modular; there is no need for these to live in any predetermined folder structure. For this example, the data and pipeline are included locally, but in practice, they are usually in a separate folder; you can point to anything (so data, pipelines, and projects may reside in distinct spaces on disk). You may also include more than one pipeline interface in your `project_config.yaml`, so in a looper project, many-to-many relationships are possible."
   ]
  },
  {
   "cell_type": "markdown",
   "metadata": {},
   "source": [
    "## Looper config\n",
    "\n",
    "The [looper config](looper-config.md) contains paths to the project config, the output_dir as well as any dfine pipeline interfaces. "
   ]
  },
  {
   "cell_type": "code",
   "execution_count": 23,
   "metadata": {},
   "outputs": [
    {
     "name": "stdout",
     "output_type": "stream",
     "text": [
      "pep_config: project/project_config.yaml # local path to pep config\r\n",
      "# pep_config: pepkit/hello_looper:default  # you can also use a pephub registry path\r\n",
      "output_dir: \"results\"\r\n",
      "pipeline_interfaces:\r\n",
      "  sample: pipeline/pipeline_interface.yaml\r\n"
     ]
    }
   ],
   "source": [
    "!cat hello_looper-master/.looper.yaml"
   ]
  },
  {
   "cell_type": "markdown",
   "metadata": {},
   "source": [
    "\n",
    "\n",
    "## Project Config\n",
    "\n",
    "The project config file contains the PEP version and sample annotation sheet. (see [defining a project](defining-a-project.md)).\n"
   ]
  },
  {
   "cell_type": "code",
   "execution_count": 19,
   "metadata": {},
   "outputs": [
    {
     "name": "stdout",
     "output_type": "stream",
     "text": [
      "pep_version: 2.0.0\r\n",
      "sample_table: sample_annotation.csv\r\n"
     ]
    }
   ],
   "source": [
    "!cat hello_looper-master/project/project_config.yaml"
   ]
  },
  {
   "cell_type": "markdown",
   "metadata": {},
   "source": [
    "## Pipeline Interface\n",
    "\n",
    "The [pipeline interface](pipeline-interface-specification.md) shows the pipeline_name, pipeline_type, as well as the var_templates and command_templates used for this pipeline.\n"
   ]
  },
  {
   "cell_type": "code",
   "execution_count": 21,
   "metadata": {},
   "outputs": [
    {
     "name": "stdout",
     "output_type": "stream",
     "text": [
      "pipeline_name: count_lines\r\n",
      "pipeline_type: sample\r\n",
      "var_templates:\r\n",
      "  pipeline: '{looper.piface_dir}/count_lines.sh'\r\n",
      "command_template: >\r\n",
      "  {pipeline.var_templates.pipeline} {sample.file}\r\n"
     ]
    }
   ],
   "source": [
    "!cat hello_looper-master/pipeline/pipeline_interface.yaml"
   ]
  },
  {
   "cell_type": "markdown",
   "metadata": {},
   "source": [
    "Alright, next let's explore what this pipeline stuck into our `output_dir`:\n"
   ]
  },
  {
   "cell_type": "code",
   "execution_count": 7,
   "metadata": {},
   "outputs": [
    {
     "name": "stdout",
     "output_type": "stream",
     "text": [
      "/home/nsheff/hello_looper_results\r\n",
      "├── results_pipeline\r\n",
      "└── submission\r\n",
      "    ├── count_lines.sh_frog_1.log\r\n",
      "    ├── count_lines.sh_frog_1.sub\r\n",
      "    ├── count_lines.sh_frog_2.log\r\n",
      "    ├── count_lines.sh_frog_2.sub\r\n",
      "    ├── frog_1.yaml\r\n",
      "    └── frog_2.yaml\r\n",
      "\r\n",
      "2 directories, 6 files\r\n"
     ]
    }
   ],
   "source": [
    "!tree $HOME/hello_looper_results"
   ]
  },
  {
   "cell_type": "markdown",
   "metadata": {},
   "source": [
    "\n",
    "Inside of an `output_dir` there will be two directories:\n",
    "\n",
    "- `results_pipeline` - a directory with output of the pipeline(s), for each sample/pipeline combination (often one per sample)\n",
    "- `submissions` - which holds a YAML representation of each sample and a log file for each submitted job\n",
    "\n",
    "From here to running hundreds of samples of various sample types is virtually the same effort!\n"
   ]
  },
  {
   "cell_type": "markdown",
   "metadata": {},
   "source": [
    "\n",
    "## A few more basic looper options\n",
    "\n",
    "Looper also provides a few other simple arguments that let you adjust what it does. You can find a [complete reference of usage](usage.md) in the docs. Here are a few of the more common options:\n",
    "\n",
    "For `looper run`:\n",
    "\n",
    "- `-d`: Dry run mode (creates submission scripts, but does not execute them) \n",
    "- `--limit`: Only run a few samples \n",
    "- `--lumpn`: Run several commands together as a single job. This is useful when you have a quick pipeline to run on many samples and want to group them.\n",
    "\n",
    "There are also other commands:\n",
    "\n",
    "- `looper check`: checks on the status (running, failed, completed) of your jobs\n",
    "- `looper summarize`: produces an output file that summarizes your project results\n",
    "- `looper destroy`: completely erases all results so you can restart\n",
    "- `looper rerun`: rerun only jobs that have failed.\n"
   ]
  },
  {
   "cell_type": "markdown",
   "metadata": {},
   "source": [
    "## On your own\n",
    "\n",
    "To use `looper` on your own, you will need to prepare 2 things: a **project** (metadata that define *what* you want to process), and **pipelines** (*how* to process data). To link your project to `looper`, you will need to [define a project](defining-a-project.md). You will want to either use pre-made `looper`-compatible pipelines or link your own custom-built pipelines. These docs will also show you how to connect your pipeline to your project.\n"
   ]
  }
 ],
 "metadata": {
  "kernelspec": {
   "display_name": "Python 3 (ipykernel)",
   "language": "python",
   "name": "python3"
  },
  "language_info": {
   "codemirror_mode": {
    "name": "ipython",
    "version": 3
   },
   "file_extension": ".py",
   "mimetype": "text/x-python",
   "name": "python",
   "nbconvert_exporter": "python",
   "pygments_lexer": "ipython3",
   "version": "3.10.12"
  }
 },
 "nbformat": 4,
 "nbformat_minor": 2
}
