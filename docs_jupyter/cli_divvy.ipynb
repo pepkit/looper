{
 "cells": [
  {
   "cell_type": "markdown",
   "metadata": {},
   "source": [
    "# <img src=\"../img/divvy_logo.svg\" class=\"img-header\"> command-line tutorial\n",
    "\n",
    "`Divvy` also provides a command-line interface that gives you the same power as the python API. You can use `--help` to get a list of the command-line options:"
   ]
  },
  {
   "cell_type": "code",
   "execution_count": 1,
   "metadata": {},
   "outputs": [
    {
     "name": "stdout",
     "output_type": "stream",
     "text": [
      "version: 0.5.0\n",
      "usage: divvy [-h] [--version] [--verbosity V] [--silent] [--logdev]\n",
      "             {write,init,list,submit} ...\n",
      "\n",
      "divvy - write compute job scripts that can be submitted to any computing\n",
      "resource\n",
      "\n",
      "positional arguments:\n",
      "  {write,init,list,submit}\n",
      "    write               Write a job script\n",
      "    init                Initialize a new divvy config file\n",
      "    list                List available compute packages\n",
      "    submit              Write and then submit a job script\n",
      "\n",
      "optional arguments:\n",
      "  -h, --help            show this help message and exit\n",
      "  --version             show program's version number and exit\n",
      "  --verbosity V         Set logging level (1-5 or logging module level name)\n",
      "  --silent              Silence logging. Overrides verbosity.\n",
      "  --logdev              Expand content of logging message format.\n",
      "\n",
      "https://divvy.databio.org\n"
     ]
    }
   ],
   "source": [
    "divvy --help"
   ]
  },
  {
   "cell_type": "markdown",
   "metadata": {},
   "source": [
    "# The `list` command\n",
    "\n",
    "Let's first use `divvy list` to show us our available computing packages:"
   ]
  },
  {
   "cell_type": "code",
   "execution_count": 2,
   "metadata": {},
   "outputs": [
    {
     "name": "stdout",
     "output_type": "stream",
     "text": [
      "Using default config. No config found in env var: ['DIVCFG', 'PEPENV']\n",
      "Using divvy config: /home/nsheff/.local/lib/python2.7/site-packages/divvy/default_config/divvy_config.yaml\n",
      "Available compute packages:\n",
      "\n",
      "default\n",
      "slurm\n",
      "singularity_slurm\n",
      "singularity\n",
      "local\n",
      "docker\n"
     ]
    },
    {
     "ename": "",
     "evalue": "1",
     "output_type": "error",
     "traceback": []
    }
   ],
   "source": [
    "divvy list"
   ]
  },
  {
   "cell_type": "markdown",
   "metadata": {},
   "source": [
    "# The `write` command\n",
    "\n",
    "Use `divvy write` to actually write a new script using a template. To do this, you'll need to provide 3 things: a template (which comes from your compute package), a settings file with variables, and an outfile.\n",
    "\n",
    "\n",
    "## The settings file\n",
    "\n",
    "The settings argument is where you can pass an existing `yaml` file with key-value pairs. Here's a simple example:"
   ]
  },
  {
   "cell_type": "code",
   "execution_count": 3,
   "metadata": {},
   "outputs": [
    {
     "name": "stdout",
     "output_type": "stream",
     "text": [
      "time: 4-0-0\n",
      "logfile: results.log\n",
      "cores: 6\n",
      "partition: large_mem\n",
      "mem: 16G\n"
     ]
    }
   ],
   "source": [
    "cat settings.yaml"
   ]
  },
  {
   "cell_type": "markdown",
   "metadata": {},
   "source": [
    "Now let's take a look at the template we are going to use by activating the `slurm` package"
   ]
  },
  {
   "cell_type": "code",
   "execution_count": 5,
   "metadata": {},
   "outputs": [
    {
     "name": "stdout",
     "output_type": "stream",
     "text": [
      "#!/bin/bash\n",
      "#SBATCH --job-name='{JOBNAME}'\n",
      "#SBATCH --output='{LOGFILE}'\n",
      "#SBATCH --mem='{MEM}'\n",
      "#SBATCH --cpus-per-task='{CORES}'\n",
      "#SBATCH --time='{TIME}'\n",
      "#SBATCH --partition='{PARTITION}'\n",
      "#SBATCH -m block\n",
      "#SBATCH --ntasks=1\n",
      "\n",
      "echo 'Compute node:' `hostname`\n",
      "echo 'Start time:' `date +'%Y-%m-%d %T'`\n",
      "\n",
      "{CODE}\n"
     ]
    }
   ],
   "source": [
    "cat ../divvy/default_config/divvy_templates/slurm_template.sub"
   ]
  },
  {
   "cell_type": "markdown",
   "metadata": {},
   "source": [
    "We use `divvy` to populate that template with our list of variables above, like this:"
   ]
  },
  {
   "cell_type": "code",
   "execution_count": 6,
   "metadata": {},
   "outputs": [
    {
     "name": "stdout",
     "output_type": "stream",
     "text": [
      "Using default config. No config found in env var: ['DIVCFG', 'PEPENV']\n",
      "Using divvy config: /home/nsheff/.local/lib/python2.7/site-packages/divvy/default_config/divvy_config.yaml\n",
      "Activating compute package 'slurm'\n",
      "Loading settings file: settings.yaml\n",
      "Writing script to /home/nsheff/code/divvy/docs_jupyter/test.sub\n"
     ]
    }
   ],
   "source": [
    "divvy write -p slurm -s settings.yaml -o test.sub"
   ]
  },
  {
   "cell_type": "markdown",
   "metadata": {},
   "source": [
    "Now we can take a look at what our sbumission scripts looks like."
   ]
  },
  {
   "cell_type": "code",
   "execution_count": 7,
   "metadata": {},
   "outputs": [
    {
     "name": "stdout",
     "output_type": "stream",
     "text": [
      "#!/bin/bash\n",
      "#SBATCH --job-name='{JOBNAME}'\n",
      "#SBATCH --output='results.log'\n",
      "#SBATCH --mem='16G'\n",
      "#SBATCH --cpus-per-task='6'\n",
      "#SBATCH --time='4-0-0'\n",
      "#SBATCH --partition='large_mem'\n",
      "#SBATCH -m block\n",
      "#SBATCH --ntasks=1\n",
      "\n",
      "echo 'Compute node:' `hostname`\n",
      "echo 'Start time:' `date +'%Y-%m-%d %T'`\n",
      "\n",
      "{CODE}\n"
     ]
    }
   ],
   "source": [
    "cat test.sub"
   ]
  },
  {
   "cell_type": "markdown",
   "metadata": {},
   "source": [
    "We populated several variables, like `{LOGFILE}` and `{TIME}`, from the `settings.yaml` file. However, the `{CODE}` and `{JOBNAME}` variables are still unpopulated, so this submission script is incomplete. To remedy this, we'll use `divvy`'s command-line variable passing: any non-interpreted arguments passed to `divvy` are assumed to be variables to populate the template. These command-line variables are considered highest priority and so will override any values in the more distant locations. For example:"
   ]
  },
  {
   "cell_type": "code",
   "execution_count": 8,
   "metadata": {},
   "outputs": [
    {
     "name": "stdout",
     "output_type": "stream",
     "text": [
      "Using default config. No config found in env var: ['DIVCFG', 'PEPENV']\n",
      "Using divvy config: /home/nsheff/.local/lib/python2.7/site-packages/divvy/default_config/divvy_config.yaml\n",
      "Activating compute package 'slurm'\n",
      "Loading settings file: settings.yaml\n",
      "Writing script to /home/nsheff/code/divvy/docs_jupyter/test.sub\n"
     ]
    }
   ],
   "source": [
    "divvy write -p slurm -s settings.yaml -o test.sub -c code=run-this-cmd jobname=12345 time=6-0-0"
   ]
  },
  {
   "cell_type": "code",
   "execution_count": 9,
   "metadata": {},
   "outputs": [
    {
     "name": "stdout",
     "output_type": "stream",
     "text": [
      "#!/bin/bash\n",
      "#SBATCH --job-name='12345'\n",
      "#SBATCH --output='results.log'\n",
      "#SBATCH --mem='16G'\n",
      "#SBATCH --cpus-per-task='6'\n",
      "#SBATCH --time='6-0-0'\n",
      "#SBATCH --partition='large_mem'\n",
      "#SBATCH -m block\n",
      "#SBATCH --ntasks=1\n",
      "\n",
      "echo 'Compute node:' `hostname`\n",
      "echo 'Start time:' `date +'%Y-%m-%d %T'`\n",
      "\n",
      "run-this-cmd\n"
     ]
    }
   ],
   "source": [
    "cat test.sub"
   ]
  },
  {
   "cell_type": "markdown",
   "metadata": {},
   "source": [
    "Now we have a complete script, which we can run with `sbatch test.sub`. Notice also that the `time` variable uses the one provided on the CLI rather than the one provided in the `settings.yaml` file, because the CLI has a higher priority.\n",
    "\n",
    "Variables can come from these 3 sources, in order of increasing priority: 1) compute package (defined in the `divvy` configuration file and selected with the `-p` or `--package` argument); 2) `settings.yaml` file, passed with `-s` or `--settings`; 3) any additional variables passed on the command line as key-value pairs to `-c`."
   ]
  },
  {
   "cell_type": "markdown",
   "metadata": {},
   "source": [
    "# Submitting jobs\n",
    "\n",
    "Let's try actually submitting these jobs with `divvy submit`:"
   ]
  },
  {
   "cell_type": "code",
   "execution_count": 10,
   "metadata": {},
   "outputs": [
    {
     "name": "stdout",
     "output_type": "stream",
     "text": [
      "Using default config. No config found in env var: ['DIVCFG', 'PEPENV']\n",
      "Using divvy config: /home/nsheff/.local/lib/python2.7/site-packages/divvy/default_config/divvy_config.yaml\n",
      "Activating compute package 'slurm'\n",
      "Loading settings file: settings.yaml\n",
      "Writing script to /home/nsheff/code/divvy/docs_jupyter/test.sub\n",
      "sbatch test.sub\n",
      "sh: 1: sbatch: not found\n"
     ]
    }
   ],
   "source": [
    "divvy submit -p slurm -s settings.yaml -o test.sub -c code=run-this-cmd jobname=12345 time=6-0-0"
   ]
  },
  {
   "cell_type": "markdown",
   "metadata": {},
   "source": [
    "The *slurm* package uses `sbatch` as its `submission_command`, but since I'm running this locally, it won't run as I have no `sbatch` command available. Let's try `local` instead:"
   ]
  },
  {
   "cell_type": "code",
   "execution_count": 11,
   "metadata": {},
   "outputs": [
    {
     "name": "stdout",
     "output_type": "stream",
     "text": [
      "Using default config. No config found in env var: ['DIVCFG', 'PEPENV']\n",
      "Using divvy config: /home/nsheff/.local/lib/python2.7/site-packages/divvy/default_config/divvy_config.yaml\n",
      "Activating compute package 'local'\n",
      "Loading settings file: settings.yaml\n",
      "Writing script to /home/nsheff/code/divvy/docs_jupyter/test.sub\n",
      "sh test.sub\n",
      "Compute node: zither\n",
      "Start time: 2020-05-19 07:46:03\n",
      "build\n",
      "cli.ipynb\n",
      "debug.ipynb\n",
      "results.log\n",
      "settings.yaml\n",
      "test_local.sub\n",
      "test_script.sub\n",
      "test.sub\n",
      "tutorial.ipynb\n"
     ]
    }
   ],
   "source": [
    "divvy submit -p local -s settings.yaml -o test.sub -c code=ls"
   ]
  },
  {
   "cell_type": "markdown",
   "metadata": {},
   "source": [
    "There I switched the command to `ls`, which shows you a result of everything on this computer."
   ]
  }
 ],
 "metadata": {
  "kernelspec": {
   "display_name": "Bash",
   "language": "bash",
   "name": "bash"
  },
  "language_info": {
   "codemirror_mode": "shell",
   "file_extension": ".sh",
   "mimetype": "text/x-sh",
   "name": "bash"
  }
 },
 "nbformat": 4,
 "nbformat_minor": 2
}
