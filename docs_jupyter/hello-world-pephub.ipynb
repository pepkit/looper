{
 "cells": [
  {
   "cell_type": "markdown",
   "metadata": {},
   "source": [
    "# Hello World! example for looper Using PEPhub project \n",
    "\n",
    "This tutorial demonstrates how to install `looper` and use it to run a pipeline on a PEP project. \n",
    "\n",
    "## 1. Install the latest version of looper:\n",
    "\n",
    "```console\n",
    "pip install --user --upgrade looper\n",
    "```\n",
    "\n",
    "## 2. Download and unzip the hello_looper repository\n",
    "\n",
    "The [hello looper repository (pephub_branch)](https://github.com/pepkit/hello_looper/tree/pephub_config) contains a basic functional example config (in `/looper_config`) and a looper-compatible pipeline (in `/pipeline`) \n",
    "that can run on that project. Let's download and unzip it:\n"
   ]
  },
  {
   "cell_type": "code",
   "execution_count": 2,
   "metadata": {
    "pycharm": {
     "is_executing": true
    }
   },
   "outputs": [
    {
     "name": "stdout",
     "output_type": "stream",
     "text": [
      "--2023-05-01 13:25:29--  https://github.com/pepkit/hello_looper/archive/pephub_config.zip\n",
      "Resolving github.com (github.com)... 140.82.114.4\n",
      "Connecting to github.com (github.com)|140.82.114.4|:443... connected.\n",
      "HTTP request sent, awaiting response... 302 Found\n",
      "Location: https://codeload.github.com/pepkit/hello_looper/zip/refs/heads/pephub_config [following]\n",
      "--2023-05-01 13:25:29--  https://codeload.github.com/pepkit/hello_looper/zip/refs/heads/pephub_config\n",
      "Resolving codeload.github.com (codeload.github.com)... 140.82.112.10\n",
      "Connecting to codeload.github.com (codeload.github.com)|140.82.112.10|:443... connected.\n",
      "HTTP request sent, awaiting response... 200 OK\n",
      "Length: unspecified [application/zip]\n",
      "Saving to: ‘pephub_config.zip’\n",
      "\n",
      "pephub_config.zip       [ <=>                ]   6.51K  --.-KB/s    in 0.02s   \n",
      "\n",
      "2023-05-01 13:25:29 (285 KB/s) - ‘pephub_config.zip’ saved [6666]\n",
      "\n"
     ]
    }
   ],
   "source": [
    "wget https://github.com/pepkit/hello_looper/archive/pephub_config.zip"
   ]
  },
  {
   "cell_type": "code",
   "execution_count": 3,
   "metadata": {},
   "outputs": [
    {
     "name": "stdout",
     "output_type": "stream",
     "text": [
      "Archive:  pephub_config.zip\n",
      "d612e3d4245d04e7f23419fb77ded80773b40f0d\n",
      "   creating: hello_looper-pephub_config/\n",
      "  inflating: hello_looper-pephub_config/README.md  \n",
      "   creating: hello_looper-pephub_config/data/\n",
      "  inflating: hello_looper-pephub_config/data/frog1_data.txt  \n",
      "  inflating: hello_looper-pephub_config/data/frog2_data.txt  \n",
      "  inflating: hello_looper-pephub_config/data/frog3_data.txt  \n",
      "  inflating: hello_looper-pephub_config/data/frog4_data.txt  \n",
      "  inflating: hello_looper-pephub_config/data/frog5_data.txt  \n",
      "   creating: hello_looper-pephub_config/looper_config/\n",
      "  inflating: hello_looper-pephub_config/looper_config/.looper.yaml  \n",
      "  inflating: hello_looper-pephub_config/looper_pipelines.md  \n",
      "  inflating: hello_looper-pephub_config/output.txt  \n",
      "   creating: hello_looper-pephub_config/pipeline/\n",
      "  inflating: hello_looper-pephub_config/pipeline/count_lines.sh  \n",
      "  inflating: hello_looper-pephub_config/pipeline/output_schema.yaml  \n",
      "  inflating: hello_looper-pephub_config/pipeline/pipeline_interface.yaml  \n",
      "  inflating: hello_looper-pephub_config/pipeline/pipeline_interface2.yaml  \n"
     ]
    }
   ],
   "source": [
    "unzip pephub_config.zip"
   ]
  },
  {
   "cell_type": "code",
   "execution_count": 4,
   "metadata": {},
   "outputs": [],
   "source": [
    "cd hello_looper-pephub_config/"
   ]
  },
  {
   "cell_type": "markdown",
   "metadata": {},
   "source": [
    "Let's check what is inside. We have data, pipeline interfaces, and looper config file"
   ]
  },
  {
   "cell_type": "code",
   "execution_count": 5,
   "metadata": {},
   "outputs": [
    {
     "name": "stdout",
     "output_type": "stream",
     "text": [
      "\u001B[0m\u001B[01;34mdata\u001B[0m  \u001B[01;34mlooper_config\u001B[0m  looper_pipelines.md  output.txt  \u001B[01;34mpipeline\u001B[0m  README.md\n"
     ]
    }
   ],
   "source": [
    "ls"
   ]
  },
  {
   "cell_type": "markdown",
   "metadata": {},
   "source": [
    "Now create env variables that are used in project and looper config:"
   ]
  },
  {
   "cell_type": "code",
   "execution_count": 6,
   "metadata": {},
   "outputs": [],
   "source": [
    "export LOOPERDATA=`pwd`/data"
   ]
  },
  {
   "cell_type": "code",
   "execution_count": 7,
   "metadata": {},
   "outputs": [],
   "source": [
    "export LOOPERPIPE=`pwd`/pipeline"
   ]
  },
  {
   "cell_type": "markdown",
   "metadata": {},
   "source": [
    "Check what's inside `.looper.yaml`. We have pep_config, output_dir, and pipeline interfaces."
   ]
  },
  {
   "cell_type": "code",
   "execution_count": 8,
   "metadata": {},
   "outputs": [
    {
     "name": "stdout",
     "output_type": "stream",
     "text": [
      "pep_config: \"databio/looper:default\" # pephub registry path or local path\n",
      "output_dir: \"$HOME/hello_looper_results\"\n",
      "pipeline_interfaces:\n",
      "  sample:  $LOOPERPIPE/pipeline_interface.yaml\n"
     ]
    }
   ],
   "source": [
    "cat ./looper_config/.looper.yaml"
   ]
  },
  {
   "cell_type": "markdown",
   "metadata": {},
   "source": [
    "## 3. Run it\n",
    "\n",
    "Run it by changing to the directory and then invoking `looper run` on the project configuration file."
   ]
  },
  {
   "cell_type": "code",
   "execution_count": 9,
   "metadata": {
    "scrolled": true
   },
   "outputs": [
    {
     "name": "stdout",
     "output_type": "stream",
     "text": [
      "No project config defined, using: {'config_file': 'databio/looper:default', 'output_dir': '$HOME/hello_looper_results', 'sample_pipeline_interfaces': '$LOOPERPIPE/pipeline_interface.yaml', 'project_pipeline_interfaces': None}. Read from dotfile (/home/bnt4me/virginia/repos/looper/docs_jupyter/hello_looper-pephub_config/looper_config/.looper.yaml).\n",
      "Looper version: 1.4.0\n",
      "Command: run\n",
      "Using default config. No config found in env var: ['DIVCFG']\n",
      "No config key in Project, or reading project from dict\n",
      "Processing project from dictionary...\n",
      "Pipestat compatible: False\n",
      "\u001B[36m## [1 of 5] sample: frog_1; pipeline: count_lines\u001B[0m\n",
      "Writing script to /home/bnt4me/hello_looper_results/submission/count_lines_frog_1.sub\n",
      "Job script (n=1; 0.00Gb): /home/bnt4me/hello_looper_results/submission/count_lines_frog_1.sub\n",
      "Compute node: bnt4me-Precision-5560\n",
      "Start time: 2023-05-01 13:25:48\n",
      "Number of lines: 4\n",
      "\u001B[36m## [2 of 5] sample: frog_2; pipeline: count_lines\u001B[0m\n",
      "Writing script to /home/bnt4me/hello_looper_results/submission/count_lines_frog_2.sub\n",
      "Job script (n=1; 0.00Gb): /home/bnt4me/hello_looper_results/submission/count_lines_frog_2.sub\n",
      "Compute node: bnt4me-Precision-5560\n",
      "Start time: 2023-05-01 13:25:48\n",
      "Number of lines: 7\n",
      "\u001B[36m## [3 of 5] sample: frog_3; pipeline: count_lines\u001B[0m\n",
      "Writing script to /home/bnt4me/hello_looper_results/submission/count_lines_frog_3.sub\n",
      "Job script (n=1; 0.00Gb): /home/bnt4me/hello_looper_results/submission/count_lines_frog_3.sub\n",
      "Compute node: bnt4me-Precision-5560\n",
      "Start time: 2023-05-01 13:25:48\n",
      "Number of lines: 7\n",
      "\u001B[36m## [4 of 5] sample: frog_4; pipeline: count_lines\u001B[0m\n",
      "Writing script to /home/bnt4me/hello_looper_results/submission/count_lines_frog_4.sub\n",
      "Job script (n=1; 0.00Gb): /home/bnt4me/hello_looper_results/submission/count_lines_frog_4.sub\n",
      "Compute node: bnt4me-Precision-5560\n",
      "Start time: 2023-05-01 13:25:48\n",
      "Number of lines: 7\n",
      "\u001B[36m## [5 of 5] sample: frog_5; pipeline: count_lines\u001B[0m\n",
      "Writing script to /home/bnt4me/hello_looper_results/submission/count_lines_frog_5.sub\n",
      "Job script (n=1; 0.00Gb): /home/bnt4me/hello_looper_results/submission/count_lines_frog_5.sub\n",
      "Compute node: bnt4me-Precision-5560\n",
      "Start time: 2023-05-01 13:25:48\n",
      "Number of lines: 4\n",
      "\n",
      "Looper finished\n",
      "Samples valid for job generation: 5 of 5\n",
      "Commands submitted: 5 of 5\n",
      "Jobs submitted: 5\n",
      "\u001B[0m\n"
     ]
    }
   ],
   "source": [
    "cd ./looper_config; looper run"
   ]
  },
  {
   "cell_type": "markdown",
   "metadata": {},
   "source": [
    "Voila! You've run your very first pipeline across multiple samples using `looper` and project from `PEPhub`!"
   ]
  },
  {
   "cell_type": "markdown",
   "metadata": {},
   "source": [
    "# Exploring the results\n",
    "\n",
    "Now, let's inspect the `hello_looper` repository you downloaded. It has 3 components, each in a subfolder:"
   ]
  },
  {
   "cell_type": "code",
   "execution_count": 10,
   "metadata": {},
   "outputs": [],
   "source": [
    "cd ../.."
   ]
  },
  {
   "cell_type": "code",
   "execution_count": 12,
   "metadata": {
    "scrolled": true
   },
   "outputs": [
    {
     "name": "stdout",
     "output_type": "stream",
     "text": [
      "\u001B[01;34mhello_looper-pephub_config/\u001B[0m\n",
      "├── \u001B[01;34mdata\u001B[0m\n",
      "│   ├── frog1_data.txt\n",
      "│   ├── frog2_data.txt\n",
      "│   ├── frog3_data.txt\n",
      "│   ├── frog4_data.txt\n",
      "│   └── frog5_data.txt\n",
      "├── \u001B[01;34mlooper_config\u001B[0m\n",
      "├── looper_pipelines.md\n",
      "├── output.txt\n",
      "├── \u001B[01;34mpipeline\u001B[0m\n",
      "│   ├── \u001B[01;32mcount_lines.sh\u001B[0m\n",
      "│   ├── output_schema.yaml\n",
      "│   ├── pipeline_interface2.yaml\n",
      "│   └── pipeline_interface.yaml\n",
      "└── README.md\n",
      "\n",
      "3 directories, 12 files\n"
     ]
    }
   ],
   "source": [
    "tree hello_looper-pephub_config/"
   ]
  },
  {
   "cell_type": "markdown",
   "metadata": {},
   "source": [
    "These are:\n",
    "\n",
    " * `/data` -- contains 5 data files for 5 samples. These input files were each passed to the pipeline.\n",
    " * `/pipeline` -- contains the script we want to run on each sample in our project. Our pipeline is a very simple shell script named `count_lines.sh`, which (duh!) counts the number of lines in an input file.\n",
    " * `/looper_config` -- contains 1 file - looper configuration, that points to PEPhub, pipeline interfaces and output directory. This particular cofig file points to: https://pephub.databio.org/databio/looper?tag=default project.\n",
    "\n"
   ]
  },
  {
   "cell_type": "markdown",
   "metadata": {},
   "source": [
    "\n",
    "When we invoke `looper` from the command line we told it to `run project/project_config.yaml`. `looper` reads the [project/project_config.yaml](https://github.com/pepkit/hello_looper/blob/master/project/project_config.yaml) file, which points to a few things:\n",
    "\n",
    " * the [project/sample_annotation.csv](https://github.com/pepkit/hello_looper/blob/master/project/sample_annotation.csv) file, which specifies a few samples, their type, and path to data file\n",
    " * the `output_dir`, which is where looper results are saved. Results will be saved in `$HOME/hello_looper_results`.\n",
    " * the `pipeline_interface.yaml` file, ([pipeline/pipeline_interface.yaml](https://github.com/pepkit/hello_looper/blob/master/pipeline/pipeline_interface.yaml)), which tells looper how to connect to the pipeline ([pipeline/count_lines.sh](https://github.com/pepkit/hello_looper/blob/master/pipeline/)).\n",
    "\n",
    "The 3 folders (`data`, `project`, and `pipeline`) are modular; there is no need for these to live in any predetermined folder structure. For this example, the data and pipeline are included locally, but in practice, they are usually in a separate folder; you can point to anything (so data, pipelines, and projects may reside in distinct spaces on disk). You may also include more than one pipeline interface in your `project_config.yaml`, so in a looper project, many-to-many relationships are possible."
   ]
  },
  {
   "cell_type": "markdown",
   "metadata": {},
   "source": [
    "\n",
    "\n",
    "## Pipeline outputs\n",
    "\n",
    "Outputs of pipeline runs will be under the directory specified in the `output_dir` variable under the `paths` section in the project config file (see [defining a project](defining-a-project.md)). Let's inspect that `project_config.yaml` file to see what it says under `output_dir`:\n"
   ]
  },
  {
   "cell_type": "code",
   "execution_count": 6,
   "metadata": {},
   "outputs": [
    {
     "name": "stdout",
     "output_type": "stream",
     "text": [
      "metadata:\r\n",
      "  sample_annotation: sample_annotation.csv\r\n",
      "  output_dir: $HOME/hello_looper_results\r\n",
      "  pipeline_interfaces: ../pipeline/pipeline_interface.yaml\r\n"
     ]
    }
   ],
   "source": [
    "!cat hello_looper-master/project/project_config.yaml"
   ]
  },
  {
   "cell_type": "markdown",
   "metadata": {},
   "source": [
    "Alright, next let's explore what this pipeline stuck into our `output_dir`:\n"
   ]
  },
  {
   "cell_type": "code",
   "execution_count": 7,
   "metadata": {},
   "outputs": [
    {
     "name": "stdout",
     "output_type": "stream",
     "text": [
      "/home/nsheff/hello_looper_results\r\n",
      "├── results_pipeline\r\n",
      "└── submission\r\n",
      "    ├── count_lines.sh_frog_1.log\r\n",
      "    ├── count_lines.sh_frog_1.sub\r\n",
      "    ├── count_lines.sh_frog_2.log\r\n",
      "    ├── count_lines.sh_frog_2.sub\r\n",
      "    ├── frog_1.yaml\r\n",
      "    └── frog_2.yaml\r\n",
      "\r\n",
      "2 directories, 6 files\r\n"
     ]
    }
   ],
   "source": [
    "!tree $HOME/hello_looper_results"
   ]
  },
  {
   "cell_type": "markdown",
   "metadata": {},
   "source": [
    "\n",
    "Inside of an `output_dir` there will be two directories:\n",
    "\n",
    "- `results_pipeline` - a directory with output of the pipeline(s), for each sample/pipeline combination (often one per sample)\n",
    "- `submissions` - which holds a YAML representation of each sample and a log file for each submitted job\n",
    "\n",
    "From here to running hundreds of samples of various sample types is virtually the same effort!\n"
   ]
  },
  {
   "cell_type": "markdown",
   "metadata": {},
   "source": [
    "\n",
    "## A few more basic looper options\n",
    "\n",
    "Looper also provides a few other simple arguments that let you adjust what it does. You can find a [complete reference of usage](usage.md) in the docs. Here are a few of the more common options:\n",
    "\n",
    "For `looper run`:\n",
    "\n",
    "- `-d`: Dry run mode (creates submission scripts, but does not execute them) \n",
    "- `--limit`: Only run a few samples \n",
    "- `--lumpn`: Run several commands together as a single job. This is useful when you have a quick pipeline to run on many samples and want to group them.\n",
    "\n",
    "There are also other commands:\n",
    "\n",
    "- `looper check`: checks on the status (running, failed, completed) of your jobs\n",
    "- `looper summarize`: produces an output file that summarizes your project results\n",
    "- `looper destroy`: completely erases all results so you can restart\n",
    "- `looper rerun`: rerun only jobs that have failed.\n"
   ]
  },
  {
   "cell_type": "markdown",
   "metadata": {},
   "source": [
    "## On your own\n",
    "\n",
    "To use `looper` on your own, you will need to prepare 2 things: a **project** (metadata that define *what* you want to process), and **pipelines** (*how* to process data). To link your project to `looper`, you will need to [define a project](defining-a-project.md). You will want to either use pre-made `looper`-compatible pipelines or link your own custom-built pipelines. These docs will also show you how to connect your pipeline to your project.\n"
   ]
  }
 ],
 "metadata": {
  "kernelspec": {
   "display_name": "Bash",
   "language": "bash",
   "name": "bash"
  },
  "language_info": {
   "codemirror_mode": "shell",
   "file_extension": ".sh",
   "mimetype": "text/x-sh",
   "name": "bash"
  }
 },
 "nbformat": 4,
 "nbformat_minor": 2
}
